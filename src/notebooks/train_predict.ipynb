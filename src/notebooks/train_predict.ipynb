{
 "cells": [
  {
   "cell_type": "markdown",
   "metadata": {},
   "source": [
    "# Init"
   ]
  },
  {
   "cell_type": "code",
   "execution_count": 1,
   "metadata": {},
   "outputs": [],
   "source": [
    "import os, sys\n",
    "\n",
    "ROOT_DIR = '../..'\n",
    "sys.path.append(ROOT_DIR)\n",
    "os.chdir(ROOT_DIR)\n",
    "\n",
    "from dotenv import load_dotenv\n",
    "load_dotenv('.env')\n",
    "\n",
    "DATAPATH = os.getenv(\"DATAPATH\")\n",
    "\n",
    "import pandas as pd \n",
    "import numpy as np\n",
    "import statsmodels.api as sm\n",
    "from sklearn.metrics import mean_absolute_error"
   ]
  },
  {
   "cell_type": "code",
   "execution_count": 2,
   "metadata": {},
   "outputs": [
    {
     "data": {
      "text/html": [
       "<div>\n",
       "<style scoped>\n",
       "    .dataframe tbody tr th:only-of-type {\n",
       "        vertical-align: middle;\n",
       "    }\n",
       "\n",
       "    .dataframe tbody tr th {\n",
       "        vertical-align: top;\n",
       "    }\n",
       "\n",
       "    .dataframe thead th {\n",
       "        text-align: right;\n",
       "    }\n",
       "</style>\n",
       "<table border=\"1\" class=\"dataframe\">\n",
       "  <thead>\n",
       "    <tr style=\"text-align: right;\">\n",
       "      <th></th>\n",
       "      <th>id_project</th>\n",
       "      <th>tipologia</th>\n",
       "      <th>area_terreno</th>\n",
       "      <th>area_construida</th>\n",
       "      <th>area_fundacao</th>\n",
       "      <th>area_fachada</th>\n",
       "      <th>area_parede</th>\n",
       "      <th>qtde_bwcs</th>\n",
       "      <th>preco_material_total</th>\n",
       "      <th>preco_execucao_total</th>\n",
       "    </tr>\n",
       "  </thead>\n",
       "  <tbody>\n",
       "    <tr>\n",
       "      <th>0</th>\n",
       "      <td>0</td>\n",
       "      <td>0</td>\n",
       "      <td>0.925</td>\n",
       "      <td>0.000000</td>\n",
       "      <td>0.352602</td>\n",
       "      <td>0.337960</td>\n",
       "      <td>0.424658</td>\n",
       "      <td>0.5</td>\n",
       "      <td>673.53120</td>\n",
       "      <td>378.19696</td>\n",
       "    </tr>\n",
       "    <tr>\n",
       "      <th>1</th>\n",
       "      <td>1</td>\n",
       "      <td>1</td>\n",
       "      <td>0.000</td>\n",
       "      <td>0.014633</td>\n",
       "      <td>0.000000</td>\n",
       "      <td>1.000000</td>\n",
       "      <td>1.000000</td>\n",
       "      <td>0.0</td>\n",
       "      <td>548.42627</td>\n",
       "      <td>308.54105</td>\n",
       "    </tr>\n",
       "    <tr>\n",
       "      <th>2</th>\n",
       "      <td>2</td>\n",
       "      <td>1</td>\n",
       "      <td>1.000</td>\n",
       "      <td>1.000000</td>\n",
       "      <td>1.000000</td>\n",
       "      <td>0.000000</td>\n",
       "      <td>0.000000</td>\n",
       "      <td>1.0</td>\n",
       "      <td>1030.66774</td>\n",
       "      <td>492.34065</td>\n",
       "    </tr>\n",
       "    <tr>\n",
       "      <th>3</th>\n",
       "      <td>3</td>\n",
       "      <td>1</td>\n",
       "      <td>-0.250</td>\n",
       "      <td>0.058138</td>\n",
       "      <td>0.275927</td>\n",
       "      <td>-0.406031</td>\n",
       "      <td>-0.429514</td>\n",
       "      <td>1.0</td>\n",
       "      <td>NaN</td>\n",
       "      <td>NaN</td>\n",
       "    </tr>\n",
       "  </tbody>\n",
       "</table>\n",
       "</div>"
      ],
      "text/plain": [
       "   id_project  tipologia  area_terreno  area_construida  area_fundacao  \\\n",
       "0           0          0         0.925         0.000000       0.352602   \n",
       "1           1          1         0.000         0.014633       0.000000   \n",
       "2           2          1         1.000         1.000000       1.000000   \n",
       "3           3          1        -0.250         0.058138       0.275927   \n",
       "\n",
       "   area_fachada  area_parede  qtde_bwcs  preco_material_total  \\\n",
       "0      0.337960     0.424658        0.5             673.53120   \n",
       "1      1.000000     1.000000        0.0             548.42627   \n",
       "2      0.000000     0.000000        1.0            1030.66774   \n",
       "3     -0.406031    -0.429514        1.0                   NaN   \n",
       "\n",
       "   preco_execucao_total  \n",
       "0             378.19696  \n",
       "1             308.54105  \n",
       "2             492.34065  \n",
       "3                   NaN  "
      ]
     },
     "execution_count": 2,
     "metadata": {},
     "output_type": "execute_result"
    }
   ],
   "source": [
    "df = pd.read_parquet(os.path.join(DATAPATH, 'staged', 'preprocessed.parquet'))\n",
    "df"
   ]
  },
  {
   "cell_type": "code",
   "execution_count": 3,
   "metadata": {},
   "outputs": [],
   "source": [
    "def train_regression(X, Y):\n",
    "    X = sm.add_constant(X)\n",
    "    model = sm.OLS(Y, X).fit()\n",
    "    return model\n",
    "\n",
    "\n",
    "def predict(value, params):\n",
    "    b, a = params\n",
    "    return b + a * value\n",
    "\n",
    "\n",
    "def show_results(Y, Y_pred):\n",
    "    df_preds = pd.DataFrame({\n",
    "        'y_true': Y,\n",
    "        'y_pred': Y_pred,\n",
    "    })\n",
    "    df_preds['diff'] = (df_preds['y_true'] - df_preds['y_pred']) * -1\n",
    "    display(df_preds)"
   ]
  },
  {
   "cell_type": "code",
   "execution_count": 4,
   "metadata": {},
   "outputs": [
    {
     "data": {
      "text/html": [
       "<div>\n",
       "<style scoped>\n",
       "    .dataframe tbody tr th:only-of-type {\n",
       "        vertical-align: middle;\n",
       "    }\n",
       "\n",
       "    .dataframe tbody tr th {\n",
       "        vertical-align: top;\n",
       "    }\n",
       "\n",
       "    .dataframe thead th {\n",
       "        text-align: right;\n",
       "    }\n",
       "</style>\n",
       "<table border=\"1\" class=\"dataframe\">\n",
       "  <thead>\n",
       "    <tr style=\"text-align: right;\">\n",
       "      <th></th>\n",
       "      <th>id_project</th>\n",
       "      <th>tipologia</th>\n",
       "      <th>area_terreno</th>\n",
       "      <th>area_construida</th>\n",
       "      <th>area_fundacao</th>\n",
       "      <th>area_fachada</th>\n",
       "      <th>area_parede</th>\n",
       "      <th>qtde_bwcs</th>\n",
       "      <th>preco_material_total</th>\n",
       "      <th>preco_execucao_total</th>\n",
       "    </tr>\n",
       "  </thead>\n",
       "  <tbody>\n",
       "    <tr>\n",
       "      <th>0</th>\n",
       "      <td>0</td>\n",
       "      <td>0</td>\n",
       "      <td>0.925</td>\n",
       "      <td>0.000000</td>\n",
       "      <td>0.352602</td>\n",
       "      <td>0.33796</td>\n",
       "      <td>0.424658</td>\n",
       "      <td>0.5</td>\n",
       "      <td>673.53120</td>\n",
       "      <td>378.19696</td>\n",
       "    </tr>\n",
       "    <tr>\n",
       "      <th>1</th>\n",
       "      <td>1</td>\n",
       "      <td>1</td>\n",
       "      <td>0.000</td>\n",
       "      <td>0.014633</td>\n",
       "      <td>0.000000</td>\n",
       "      <td>1.00000</td>\n",
       "      <td>1.000000</td>\n",
       "      <td>0.0</td>\n",
       "      <td>548.42627</td>\n",
       "      <td>308.54105</td>\n",
       "    </tr>\n",
       "    <tr>\n",
       "      <th>2</th>\n",
       "      <td>2</td>\n",
       "      <td>1</td>\n",
       "      <td>1.000</td>\n",
       "      <td>1.000000</td>\n",
       "      <td>1.000000</td>\n",
       "      <td>0.00000</td>\n",
       "      <td>0.000000</td>\n",
       "      <td>1.0</td>\n",
       "      <td>1030.66774</td>\n",
       "      <td>492.34065</td>\n",
       "    </tr>\n",
       "  </tbody>\n",
       "</table>\n",
       "</div>"
      ],
      "text/plain": [
       "   id_project  tipologia  area_terreno  area_construida  area_fundacao  \\\n",
       "0           0          0         0.925         0.000000       0.352602   \n",
       "1           1          1         0.000         0.014633       0.000000   \n",
       "2           2          1         1.000         1.000000       1.000000   \n",
       "\n",
       "   area_fachada  area_parede  qtde_bwcs  preco_material_total  \\\n",
       "0       0.33796     0.424658        0.5             673.53120   \n",
       "1       1.00000     1.000000        0.0             548.42627   \n",
       "2       0.00000     0.000000        1.0            1030.66774   \n",
       "\n",
       "   preco_execucao_total  \n",
       "0             378.19696  \n",
       "1             308.54105  \n",
       "2             492.34065  "
      ]
     },
     "metadata": {},
     "output_type": "display_data"
    },
    {
     "data": {
      "text/html": [
       "<div>\n",
       "<style scoped>\n",
       "    .dataframe tbody tr th:only-of-type {\n",
       "        vertical-align: middle;\n",
       "    }\n",
       "\n",
       "    .dataframe tbody tr th {\n",
       "        vertical-align: top;\n",
       "    }\n",
       "\n",
       "    .dataframe thead th {\n",
       "        text-align: right;\n",
       "    }\n",
       "</style>\n",
       "<table border=\"1\" class=\"dataframe\">\n",
       "  <thead>\n",
       "    <tr style=\"text-align: right;\">\n",
       "      <th></th>\n",
       "      <th>id_project</th>\n",
       "      <th>tipologia</th>\n",
       "      <th>area_terreno</th>\n",
       "      <th>area_construida</th>\n",
       "      <th>area_fundacao</th>\n",
       "      <th>area_fachada</th>\n",
       "      <th>area_parede</th>\n",
       "      <th>qtde_bwcs</th>\n",
       "      <th>preco_material_total</th>\n",
       "      <th>preco_execucao_total</th>\n",
       "    </tr>\n",
       "  </thead>\n",
       "  <tbody>\n",
       "    <tr>\n",
       "      <th>3</th>\n",
       "      <td>3</td>\n",
       "      <td>1</td>\n",
       "      <td>-0.25</td>\n",
       "      <td>0.058138</td>\n",
       "      <td>0.275927</td>\n",
       "      <td>-0.406031</td>\n",
       "      <td>-0.429514</td>\n",
       "      <td>1.0</td>\n",
       "      <td>NaN</td>\n",
       "      <td>NaN</td>\n",
       "    </tr>\n",
       "  </tbody>\n",
       "</table>\n",
       "</div>"
      ],
      "text/plain": [
       "   id_project  tipologia  area_terreno  area_construida  area_fundacao  \\\n",
       "3           3          1         -0.25         0.058138       0.275927   \n",
       "\n",
       "   area_fachada  area_parede  qtde_bwcs  preco_material_total  \\\n",
       "3     -0.406031    -0.429514        1.0                   NaN   \n",
       "\n",
       "   preco_execucao_total  \n",
       "3                   NaN  "
      ]
     },
     "metadata": {},
     "output_type": "display_data"
    }
   ],
   "source": [
    "train_mask = df['id_project'] != 3\n",
    "test_mask = df['id_project'] == 3\n",
    "display(df[train_mask])\n",
    "display(df[test_mask])"
   ]
  },
  {
   "cell_type": "markdown",
   "metadata": {},
   "source": [
    "# Model Material"
   ]
  },
  {
   "cell_type": "code",
   "execution_count": 5,
   "metadata": {},
   "outputs": [
    {
     "name": "stdout",
     "output_type": "stream",
     "text": [
      "                             OLS Regression Results                             \n",
      "================================================================================\n",
      "Dep. Variable:     preco_material_total   R-squared:                       0.990\n",
      "Model:                              OLS   Adj. R-squared:                  0.979\n",
      "Method:                   Least Squares   F-statistic:                     94.75\n",
      "Date:                  Tue, 14 Nov 2023   Prob (F-statistic):             0.0652\n",
      "Time:                          22:11:18   Log-Likelihood:                -13.373\n",
      "No. Observations:                     3   AIC:                             30.75\n",
      "Df Residuals:                         1   BIC:                             28.94\n",
      "Df Model:                             1                                         \n",
      "Covariance Type:              nonrobust                                         \n",
      "=================================================================================\n",
      "                    coef    std err          t      P>|t|      [0.025      0.975]\n",
      "---------------------------------------------------------------------------------\n",
      "const           529.5786     30.870     17.155      0.037     137.342     921.815\n",
      "area_fundacao   490.8238     50.425      9.734      0.065    -149.887    1131.534\n",
      "==============================================================================\n",
      "Omnibus:                          nan   Durbin-Watson:                   1.815\n",
      "Prob(Omnibus):                    nan   Jarque-Bera (JB):                0.473\n",
      "Skew:                          -0.619   Prob(JB):                        0.790\n",
      "Kurtosis:                       1.500   Cond. No.                         2.98\n",
      "==============================================================================\n",
      "\n",
      "Notes:\n",
      "[1] Standard Errors assume that the covariance matrix of the errors is correctly specified.\n"
     ]
    },
    {
     "name": "stderr",
     "output_type": "stream",
     "text": [
      "/home/dockeruser/.local/lib/python3.11/site-packages/statsmodels/stats/stattools.py:74: ValueWarning: omni_normtest is not valid with less than 8 observations; 3 samples were given.\n",
      "  warn(\"omni_normtest is not valid with less than 8 observations; %i \"\n"
     ]
    }
   ],
   "source": [
    "X = df.loc[train_mask, 'area_fundacao']\n",
    "Y = df.loc[train_mask,'preco_material_total']\n",
    "model_material = train_regression(X,Y)\n",
    "print(model_material.summary())"
   ]
  },
  {
   "cell_type": "code",
   "execution_count": 6,
   "metadata": {},
   "outputs": [
    {
     "data": {
      "text/html": [
       "<div>\n",
       "<style scoped>\n",
       "    .dataframe tbody tr th:only-of-type {\n",
       "        vertical-align: middle;\n",
       "    }\n",
       "\n",
       "    .dataframe tbody tr th {\n",
       "        vertical-align: top;\n",
       "    }\n",
       "\n",
       "    .dataframe thead th {\n",
       "        text-align: right;\n",
       "    }\n",
       "</style>\n",
       "<table border=\"1\" class=\"dataframe\">\n",
       "  <thead>\n",
       "    <tr style=\"text-align: right;\">\n",
       "      <th></th>\n",
       "      <th>y_true</th>\n",
       "      <th>y_pred</th>\n",
       "      <th>diff</th>\n",
       "    </tr>\n",
       "  </thead>\n",
       "  <tbody>\n",
       "    <tr>\n",
       "      <th>0</th>\n",
       "      <td>673.53120</td>\n",
       "      <td>702.644088</td>\n",
       "      <td>29.112888</td>\n",
       "    </tr>\n",
       "    <tr>\n",
       "      <th>1</th>\n",
       "      <td>548.42627</td>\n",
       "      <td>529.578643</td>\n",
       "      <td>-18.847627</td>\n",
       "    </tr>\n",
       "    <tr>\n",
       "      <th>2</th>\n",
       "      <td>1030.66774</td>\n",
       "      <td>1020.402479</td>\n",
       "      <td>-10.265261</td>\n",
       "    </tr>\n",
       "  </tbody>\n",
       "</table>\n",
       "</div>"
      ],
      "text/plain": [
       "       y_true       y_pred       diff\n",
       "0   673.53120   702.644088  29.112888\n",
       "1   548.42627   529.578643 -18.847627\n",
       "2  1030.66774  1020.402479 -10.265261"
      ]
     },
     "metadata": {},
     "output_type": "display_data"
    }
   ],
   "source": [
    "Y_pred = [predict(x, model_material.params) for x in X]\n",
    "show_results(Y, Y_pred)"
   ]
  },
  {
   "cell_type": "code",
   "execution_count": 7,
   "metadata": {},
   "outputs": [
    {
     "data": {
      "text/plain": [
       "19.408591887683542"
      ]
     },
     "execution_count": 7,
     "metadata": {},
     "output_type": "execute_result"
    }
   ],
   "source": [
    "mae_material = mean_absolute_error(Y, Y_pred)\n",
    "mae_material"
   ]
  },
  {
   "cell_type": "markdown",
   "metadata": {},
   "source": [
    "## Nota\n",
    "\n",
    "* Ajuste do modelo de regressão realizado com uma amostra de tamanho n = 3 e uma única variável independente (`area_fundacao`)\n",
    "* O valor $R^2$ apresenta que as variáveis independentes explicam 99% da variação na variável dependente\n",
    "* Os valores p-value para os coeficientes ajustados apresentam significância estatística, apesar do valor ligeiramente acima dos 0.05 para o coeficiente associado à variável `area_fundacao`\n",
    "* Para os dados da amostra, o Erro Médio Absoluto é de aproximadamente 19.41\n",
    "* Apesar do ajuste satisfatório o intervalo de confiança para os coeficientes ajustados é muito amplo, o que era esperado dado uma amostra tão pequena (3 exemplos)."
   ]
  },
  {
   "cell_type": "markdown",
   "metadata": {},
   "source": [
    "# Model Execução"
   ]
  },
  {
   "cell_type": "code",
   "execution_count": 8,
   "metadata": {},
   "outputs": [
    {
     "name": "stdout",
     "output_type": "stream",
     "text": [
      "                             OLS Regression Results                             \n",
      "================================================================================\n",
      "Dep. Variable:     preco_execucao_total   R-squared:                       0.999\n",
      "Model:                              OLS   Adj. R-squared:                  0.998\n",
      "Method:                   Least Squares   F-statistic:                     1130.\n",
      "Date:                  Tue, 14 Nov 2023   Prob (F-statistic):             0.0189\n",
      "Time:                          22:11:18   Log-Likelihood:                -6.6934\n",
      "No. Observations:                     3   AIC:                             17.39\n",
      "Df Residuals:                         1   BIC:                             15.58\n",
      "Df Model:                             1                                         \n",
      "Covariance Type:              nonrobust                                         \n",
      "=================================================================================\n",
      "                    coef    std err          t      P>|t|      [0.025      0.975]\n",
      "---------------------------------------------------------------------------------\n",
      "const           310.5745      3.330     93.254      0.007     268.257     352.891\n",
      "area_fundacao   182.8737      5.440     33.615      0.019     113.750     251.998\n",
      "==============================================================================\n",
      "Omnibus:                          nan   Durbin-Watson:                   1.815\n",
      "Prob(Omnibus):                    nan   Jarque-Bera (JB):                0.473\n",
      "Skew:                           0.619   Prob(JB):                        0.790\n",
      "Kurtosis:                       1.500   Cond. No.                         2.98\n",
      "==============================================================================\n",
      "\n",
      "Notes:\n",
      "[1] Standard Errors assume that the covariance matrix of the errors is correctly specified.\n"
     ]
    },
    {
     "name": "stderr",
     "output_type": "stream",
     "text": [
      "/home/dockeruser/.local/lib/python3.11/site-packages/statsmodels/stats/stattools.py:74: ValueWarning: omni_normtest is not valid with less than 8 observations; 3 samples were given.\n",
      "  warn(\"omni_normtest is not valid with less than 8 observations; %i \"\n"
     ]
    }
   ],
   "source": [
    "X = df.loc[train_mask, 'area_fundacao']\n",
    "Y = df.loc[train_mask,'preco_execucao_total']\n",
    "model_execution = train_regression(X,Y)\n",
    "print(model_execution.summary())"
   ]
  },
  {
   "cell_type": "code",
   "execution_count": 9,
   "metadata": {},
   "outputs": [
    {
     "data": {
      "text/html": [
       "<div>\n",
       "<style scoped>\n",
       "    .dataframe tbody tr th:only-of-type {\n",
       "        vertical-align: middle;\n",
       "    }\n",
       "\n",
       "    .dataframe tbody tr th {\n",
       "        vertical-align: top;\n",
       "    }\n",
       "\n",
       "    .dataframe thead th {\n",
       "        text-align: right;\n",
       "    }\n",
       "</style>\n",
       "<table border=\"1\" class=\"dataframe\">\n",
       "  <thead>\n",
       "    <tr style=\"text-align: right;\">\n",
       "      <th></th>\n",
       "      <th>y_true</th>\n",
       "      <th>y_pred</th>\n",
       "      <th>diff</th>\n",
       "    </tr>\n",
       "  </thead>\n",
       "  <tbody>\n",
       "    <tr>\n",
       "      <th>0</th>\n",
       "      <td>378.19696</td>\n",
       "      <td>375.056072</td>\n",
       "      <td>-3.140888</td>\n",
       "    </tr>\n",
       "    <tr>\n",
       "      <th>1</th>\n",
       "      <td>308.54105</td>\n",
       "      <td>310.574455</td>\n",
       "      <td>2.033405</td>\n",
       "    </tr>\n",
       "    <tr>\n",
       "      <th>2</th>\n",
       "      <td>492.34065</td>\n",
       "      <td>493.448133</td>\n",
       "      <td>1.107483</td>\n",
       "    </tr>\n",
       "  </tbody>\n",
       "</table>\n",
       "</div>"
      ],
      "text/plain": [
       "      y_true      y_pred      diff\n",
       "0  378.19696  375.056072 -3.140888\n",
       "1  308.54105  310.574455  2.033405\n",
       "2  492.34065  493.448133  1.107483"
      ]
     },
     "metadata": {},
     "output_type": "display_data"
    }
   ],
   "source": [
    "Y_pred = [predict(x, model_execution.params) for x in X]\n",
    "show_results(Y, Y_pred)"
   ]
  },
  {
   "cell_type": "code",
   "execution_count": 10,
   "metadata": {},
   "outputs": [
    {
     "data": {
      "text/plain": [
       "2.093925547591747"
      ]
     },
     "execution_count": 10,
     "metadata": {},
     "output_type": "execute_result"
    }
   ],
   "source": [
    "mae_execution = mean_absolute_error(Y, Y_pred)\n",
    "mae_execution"
   ]
  },
  {
   "cell_type": "markdown",
   "metadata": {},
   "source": [
    "## Nota\n",
    "\n",
    "* Ajuste do modelo de regressão realizado com uma amostra de tamanho n = 3 e uma única variável independente (`area_fundacao`)\n",
    "* O valor $R^2$ apresenta que as variáveis independentes explicam 99,9% da variação na variável dependente\n",
    "* Os valores p-value para os coeficientes ajustados apresentam significância estatística\n",
    "* Para os dados da amostra, o Erro Médio Absoluto é de aproximadamente 2.1\n",
    "* Apesar do ajuste satisfatório o intervalo de confiança para os coeficientes ajustados é amplo, o que era esperado dado uma amostra tão pequena (3 exemplos)."
   ]
  },
  {
   "cell_type": "markdown",
   "metadata": {},
   "source": [
    "# Predição para o projeto 4"
   ]
  },
  {
   "cell_type": "code",
   "execution_count": 11,
   "metadata": {},
   "outputs": [
    {
     "name": "stdout",
     "output_type": "stream",
     "text": [
      "Predicted budget: 1026044.63\n",
      "MAE: 21502.52\n"
     ]
    }
   ],
   "source": [
    "X = df.loc[test_mask, 'area_fundacao']\n",
    "Y_pred_material = [predict(x, model_material.params) for x in X]\n",
    "Y_pred_execution = [predict(x, model_execution.params) for x in X]\n",
    "budget = np.sum([Y_pred_material, Y_pred_execution]) * 1000\n",
    "print(f'Predicted budget: {budget:>.2f}')\n",
    "print(f'MAE: {((mae_material + mae_execution) * 1000):>.2f}')"
   ]
  },
  {
   "cell_type": "markdown",
   "metadata": {},
   "source": [
    "# Nota\n",
    "\n",
    "* Os parâmetros ajustados foram empregados para estimar o orçamento do projeto 4\n",
    "* O resultado é multiplicado por 1000 devido à transformação realizada no pré-processamento dos dados\n",
    "* O valor estimado aproximado para o orçamento do projeto 4 é de R$ 1.026.044,63 reais podendo variar aproximadamente 21.502,52 reais para mais ou para menos."
   ]
  }
 ],
 "metadata": {
  "kernelspec": {
   "display_name": "Python 3",
   "language": "python",
   "name": "python3"
  },
  "language_info": {
   "codemirror_mode": {
    "name": "ipython",
    "version": 3
   },
   "file_extension": ".py",
   "mimetype": "text/x-python",
   "name": "python",
   "nbconvert_exporter": "python",
   "pygments_lexer": "ipython3",
   "version": "3.11.6"
  }
 },
 "nbformat": 4,
 "nbformat_minor": 2
}
